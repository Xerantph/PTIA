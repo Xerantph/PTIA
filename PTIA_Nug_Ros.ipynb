{
  "nbformat": 4,
  "nbformat_minor": 0,
  "metadata": {
    "colab": {
      "name": "PTIA Nug_Ros.ipynb",
      "provenance": [],
      "include_colab_link": true
    },
    "kernelspec": {
      "name": "python3",
      "display_name": "Python 3"
    },
    "language_info": {
      "name": "python"
    }
  },
  "cells": [
    {
      "cell_type": "markdown",
      "metadata": {
        "id": "view-in-github",
        "colab_type": "text"
      },
      "source": [
        "<a href=\"https://colab.research.google.com/github/Xerantph/PTIA/blob/main/PTIA_Nug_Ros.ipynb\" target=\"_parent\"><img src=\"https://colab.research.google.com/assets/colab-badge.svg\" alt=\"Open In Colab\"/></a>"
      ]
    },
    {
      "cell_type": "code",
      "execution_count": null,
      "metadata": {
        "colab": {
          "base_uri": "https://localhost:8080/"
        },
        "id": "F_zD4DJb6o96",
        "outputId": "ca088ee8-6396-42d8-ed14-b556944eb0e4"
      },
      "outputs": [
        {
          "output_type": "stream",
          "name": "stdout",
          "text": [
            "Selamat Datang di Log Calculation\n"
          ]
        }
      ],
      "source": [
        "print('Selamat Datang di Log Calculation')\n",
        "\n",
        "#Penentuan Density_Porosity\n",
        "Rho_b=float(input('Masukkan nilai Rho b: '))\n",
        "Rho_ma=float(input('Masukkan nilai Rho ma: '))\n",
        "Rho_f=float(input('Masukkan nilai Rho f: '))\n",
        "\n",
        "#Calculation\n",
        "Den_Porosity = (Rho_ma - Rho_b)/(Rho_ma - Rho_f)\n",
        "if Rho_ma != 2.65:\n",
        "  print('Maaf, terjadi kesalahan pada perhitungan')\n",
        "elif Rho_f != 0.8:\n",
        "  print('Maaf, terjadi kesalahan pada perhitungan')\n",
        "else:\n",
        "  print('Nilai Den_Porosity dalam % yang didapat sebesar:',Den_Porosity*100)\n",
        "  Lanjut=str(input('Apakah ingin lanjut ke perhitungan Neu_Den_Porosity?(YES/NO)'))\n",
        "  if Lanjut == 'NO':\n",
        "    print('Nilai Den_Porosity yang didapat sebesar:',Den_Porosity)\n",
        "    print('Perhitungan selesai')\n",
        "  elif Lanjut == 'YES':\n",
        "    NPHI=float(input('Masukkan nilai NPHI dalam %:'))\n",
        "\n",
        "#Penentuan Neu_Den_Porosity\n",
        "Neu_Den_Porosity = (NPHI + Den_Porosity*100)/2\n",
        "print('Hasil Perhitungan Neu_Den_Porosity sebesar:',Neu_Den_Porosity)\n",
        "Lanjut2=str(input('Apakah ingin lanjut ke perhitungan Water Saturation?(YES/NO)'))\n",
        "if Lanjut2 == 'NO':\n",
        "  print('Nilai Den_Porosity yang didapat sebesar:',Den_Porosity)\n",
        "  print('Nilai Neu_Den_Porosity yang didapat sebesar:',Neu_Den_Porosity)\n",
        "  print('Perhitungan selesai')\n",
        "elif Lanjut2 == 'YES':\n",
        "  Rt=float(input('Masukkan nilai Rt:'))\n",
        "\n",
        "#Penentuan Water Saturation\n",
        "Sw = ((1*0.015)/(((Neu_Den_Porosity/100)**2)*Rt))**0.5\n",
        "print('Nilai Den_Porosity yang didapat sebesar:',Den_Porosity)\n",
        "print('Nilai Neu_Den_Porosity yang didapat sebesar:',Neu_Den_Porosity)\n",
        "print('Nilai Water Saturation yang didapat sebesar:',Sw)\n",
        "print('Perhitungan selesai')\n",
        "\n"
      ]
    }
  ]
}